{
  "nbformat": 4,
  "nbformat_minor": 0,
  "metadata": {
    "colab": {
      "provenance": [],
      "authorship_tag": "ABX9TyMzkR3caJ6aO0eB10uWkRkD",
      "include_colab_link": true
    },
    "kernelspec": {
      "name": "python3",
      "display_name": "Python 3"
    },
    "language_info": {
      "name": "python"
    }
  },
  "cells": [
    {
      "cell_type": "markdown",
      "metadata": {
        "id": "view-in-github",
        "colab_type": "text"
      },
      "source": [
        "<a href=\"https://colab.research.google.com/github/Dexne/Pattern_Recognition/blob/main/02_sklearn_LR.ipynb\" target=\"_parent\"><img src=\"https://colab.research.google.com/assets/colab-badge.svg\" alt=\"Open In Colab\"/></a>"
      ]
    },
    {
      "cell_type": "markdown",
      "source": [
        "**Recocimiento de patrones**\n",
        "\n",
        "**Regresión lineal con scikit-learn**\n",
        "\n",
        "scikit-learn es una biblioteca de Machine Learning muy popular en estos días, implementa los modelos y algoritmos más populares en el estado del arte de manera eficiente. A continuación se desarrolla un ejemplo de regresión lineal simple.\n",
        "\n",
        "Primeramente se importan las paqueterias:"
      ],
      "metadata": {
        "id": "fY-V14tU9cz4"
      }
    },
    {
      "cell_type": "code",
      "execution_count": 1,
      "metadata": {
        "id": "YXlpMldi9bnR"
      },
      "outputs": [],
      "source": [
        "import pandas as pd\n",
        "import numpy as np\n",
        "import matplotlib.pyplot as plt\n",
        "from sklearn import linear_model"
      ]
    },
    {
      "cell_type": "markdown",
      "source": [
        "Ahora se tiene que leer el conjunto de datos por medio de pandas"
      ],
      "metadata": {
        "id": "3HYp6NXt9cF4"
      }
    },
    {
      "cell_type": "code",
      "source": [
        "data = pd.read_csv('/content/countries.csv')\n",
        "print(data.head())"
      ],
      "metadata": {
        "colab": {
          "base_uri": "https://localhost:8080/"
        },
        "id": "8UvwWTzP90Gn",
        "outputId": "0c1e20d7-6a19-465c-ecb9-147a2e0a2730"
      },
      "execution_count": 5,
      "outputs": [
        {
          "output_type": "stream",
          "name": "stdout",
          "text": [
            "       country  year         pop continent  lifeExp   gdpPercap\n",
            "0  Afghanistan  1952   8425333.0      Asia   28.801  779.445314\n",
            "1  Afghanistan  1957   9240934.0      Asia   30.332  820.853030\n",
            "2  Afghanistan  1962  10267083.0      Asia   31.997  853.100710\n",
            "3  Afghanistan  1967  11537966.0      Asia   34.020  836.197138\n",
            "4  Afghanistan  1972  13079460.0      Asia   36.088  739.981106\n"
          ]
        }
      ]
    },
    {
      "cell_type": "markdown",
      "source": [
        "Recortamos los valores de Mexico y mostramos un gráfico del año contra la esperanza de vida"
      ],
      "metadata": {
        "id": "nbLrYIHG-GRY"
      }
    },
    {
      "cell_type": "code",
      "source": [
        "data_mex = data[data.country == 'Mexico']\n",
        "print(data_mex)\n",
        "data_mex.plot.scatter(x='year',y='lifeExp')"
      ],
      "metadata": {
        "colab": {
          "base_uri": "https://localhost:8080/",
          "height": 692
        },
        "id": "Dpa6I2oK-JiY",
        "outputId": "8ce6ec57-e6c5-4344-c3d1-56bf0a0c1e46"
      },
      "execution_count": 6,
      "outputs": [
        {
          "output_type": "stream",
          "name": "stdout",
          "text": [
            "    country  year          pop continent  lifeExp     gdpPercap\n",
            "984  Mexico  1952   30144317.0  Americas   50.789   3478.125529\n",
            "985  Mexico  1957   35015548.0  Americas   55.190   4131.546641\n",
            "986  Mexico  1962   41121485.0  Americas   58.299   4581.609385\n",
            "987  Mexico  1967   47995559.0  Americas   60.110   5754.733883\n",
            "988  Mexico  1972   55984294.0  Americas   62.361   6809.406690\n",
            "989  Mexico  1977   63759976.0  Americas   65.032   7674.929108\n",
            "990  Mexico  1982   71640904.0  Americas   67.405   9611.147541\n",
            "991  Mexico  1987   80122492.0  Americas   69.498   8688.156003\n",
            "992  Mexico  1992   88111030.0  Americas   71.455   9472.384295\n",
            "993  Mexico  1997   95895146.0  Americas   73.670   9767.297530\n",
            "994  Mexico  2002  102479927.0  Americas   74.902  10742.440530\n",
            "995  Mexico  2007  108700891.0  Americas   76.195  11977.574960\n"
          ]
        },
        {
          "output_type": "execute_result",
          "data": {
            "text/plain": [
              "<Axes: xlabel='year', ylabel='lifeExp'>"
            ]
          },
          "metadata": {},
          "execution_count": 6
        },
        {
          "output_type": "display_data",
          "data": {
            "text/plain": [
              "<Figure size 640x480 with 1 Axes>"
            ],
            "image/png": "[encoded data removed]"
          },
          "metadata": {}
        }
      ]
    },
    {
      "cell_type": "markdown",
      "source": [
        "Para este ejemplo la variable 'year' será nuestra variable independiente y la variable 'lifeExp' sera nuestra variable dependiente."
      ],
      "metadata": {
        "id": "3DUw0Ntv-gaX"
      }
    },
    {
      "cell_type": "code",
      "source": [
        "x = np.asarray(data_mex[['year']])\n",
        "y = np.asarray(data_mex[['lifeExp']])"
      ],
      "metadata": {
        "id": "mJSsOpox-i_G"
      },
      "execution_count": 7,
      "outputs": []
    },
    {
      "cell_type": "code",
      "source": [
        "model = linear_model.LinearRegression()\n",
        "model.fit(x,y)\n",
        "y_pred = model.predict(x)\n",
        "plt.scatter(x,y)\n",
        "plt.plot(x,y_pred,'--r')"
      ],
      "metadata": {
        "colab": {
          "base_uri": "https://localhost:8080/",
          "height": 447
        },
        "id": "tEZc0Dh_-l0W",
        "outputId": "1540b36b-fa80-431b-c547-0896f78328d0"
      },
      "execution_count": 8,
      "outputs": [
        {
          "output_type": "execute_result",
          "data": {
            "text/plain": [
              "[<matplotlib.lines.Line2D at 0x7fbb0e6fd450>]"
            ]
          },
          "metadata": {},
          "execution_count": 8
        },
        {
          "output_type": "display_data",
          "data": {
            "text/plain": [
              "<Figure size 640x480 with 1 Axes>"
            ],
            "image/png": "[encoded data removed]"
          },
          "metadata": {}
        }
      ]
    },
    {
      "cell_type": "markdown",
      "source": [
        "Ya que tenemos el modelo ajustado podemor hacer predicciones (extrapolaciones o interpolaciones)"
      ],
      "metadata": {
        "id": "uTXAcFdp-prf"
      }
    },
    {
      "cell_type": "code",
      "source": [
        "model.predict([[2022]])"
      ],
      "metadata": {
        "colab": {
          "base_uri": "https://localhost:8080/"
        },
        "id": "SEPpwAem-qvP",
        "outputId": "e0aed1ac-a4c8-4dee-c992-e5547403b1f0"
      },
      "execution_count": 9,
      "outputs": [
        {
          "output_type": "execute_result",
          "data": {
            "text/plain": [
              "array([[84.57781935]])"
            ]
          },
          "metadata": {},
          "execution_count": 9
        }
      ]
    },
    {
      "cell_type": "markdown",
      "source": [
        "**Métricas de regresión**\n",
        "\n",
        "Pero, ¿Cómo podemos determinar si el modelo que tenemos se ajusta bien a los datos o no?.\n",
        "\n",
        "Se puede, por ejemplo, determinar el error entre los datos esperados y los predichos de la siguiente manera:"
      ],
      "metadata": {
        "id": "zKkI8576-uNm"
      }
    },
    {
      "cell_type": "code",
      "source": [
        "# Error en cada predicción\n",
        "y-y_pred"
      ],
      "metadata": {
        "colab": {
          "base_uri": "https://localhost:8080/"
        },
        "id": "VyWFoHxP-xjf",
        "outputId": "394b5a71-b74c-428d-83c2-bb22b07ce2b2"
      },
      "execution_count": 10,
      "outputs": [
        {
          "output_type": "execute_result",
          "data": {
            "text/plain": [
              "array([[-2.21637179],\n",
              "       [-0.07054662],\n",
              "       [ 0.78327855],\n",
              "       [ 0.33910373],\n",
              "       [ 0.3349289 ],\n",
              "       [ 0.75075408],\n",
              "       [ 0.86857925],\n",
              "       [ 0.70640443],\n",
              "       [ 0.4082296 ],\n",
              "       [ 0.36805478],\n",
              "       [-0.65512005],\n",
              "       [-1.61729487]])"
            ]
          },
          "metadata": {},
          "execution_count": 10
        }
      ]
    },
    {
      "cell_type": "markdown",
      "source": [
        "Pero solo nos importa la magnitud de dicho error"
      ],
      "metadata": {
        "id": "q4iyLY9k-z5_"
      }
    },
    {
      "cell_type": "code",
      "source": [
        "abs(y-y_pred)"
      ],
      "metadata": {
        "colab": {
          "base_uri": "https://localhost:8080/"
        },
        "id": "Cld0Gt45-2Pv",
        "outputId": "928e36f6-bb86-4667-fa0e-d80f57863a54"
      },
      "execution_count": 11,
      "outputs": [
        {
          "output_type": "execute_result",
          "data": {
            "text/plain": [
              "array([[2.21637179],\n",
              "       [0.07054662],\n",
              "       [0.78327855],\n",
              "       [0.33910373],\n",
              "       [0.3349289 ],\n",
              "       [0.75075408],\n",
              "       [0.86857925],\n",
              "       [0.70640443],\n",
              "       [0.4082296 ],\n",
              "       [0.36805478],\n",
              "       [0.65512005],\n",
              "       [1.61729487]])"
            ]
          },
          "metadata": {},
          "execution_count": 11
        }
      ]
    },
    {
      "cell_type": "markdown",
      "source": [
        "Métricas de errores usados en Regresión\n",
        "Error Absoluto Medio (MAE de las siglas en inglés Mean Absolute Error)."
      ],
      "metadata": {
        "id": "oPBBYpxd_G-W"
      }
    },
    {
      "cell_type": "code",
      "source": [
        "from sklearn.metrics import mean_absolute_error\n",
        "mean_absolute_error(y,y_pred)"
      ],
      "metadata": {
        "colab": {
          "base_uri": "https://localhost:8080/"
        },
        "id": "JgH0At2x_IGO",
        "outputId": "d945cbaf-cc78-4dc6-a4d4-d8665849e4dd"
      },
      "execution_count": 12,
      "outputs": [
        {
          "output_type": "execute_result",
          "data": {
            "text/plain": [
              "0.7598888888889034"
            ]
          },
          "metadata": {},
          "execution_count": 12
        }
      ]
    },
    {
      "cell_type": "markdown",
      "source": [
        "Error Cuadrático Medio (MSE de las siglas en inglés Mean Squared Error)."
      ],
      "metadata": {
        "id": "6scBAWl5_QlF"
      }
    },
    {
      "cell_type": "code",
      "source": [
        "from sklearn.metrics import mean_squared_error\n",
        "mean_squared_error(y,y_pred)"
      ],
      "metadata": {
        "colab": {
          "base_uri": "https://localhost:8080/"
        },
        "id": "9RMn97VX_Rim",
        "outputId": "71c22ef9-59dc-4cae-828f-72aa1acb8ba6"
      },
      "execution_count": 13,
      "outputs": [
        {
          "output_type": "execute_result",
          "data": {
            "text/plain": [
              "0.9101653580031027"
            ]
          },
          "metadata": {},
          "execution_count": 13
        }
      ]
    },
    {
      "cell_type": "markdown",
      "source": [
        "Error Mediano Absoluto (MedAE de las siglas en inglés Median Absolute Error)."
      ],
      "metadata": {
        "id": "jYgTY1Vu_U9F"
      }
    },
    {
      "cell_type": "code",
      "source": [
        "from sklearn.metrics import median_absolute_error\n",
        "mean_absolute_error(y,y_pred)"
      ],
      "metadata": {
        "colab": {
          "base_uri": "https://localhost:8080/"
        },
        "id": "TN7poqxJ_V39",
        "outputId": "a846b4d2-1eee-4519-8ce2-b0f77e804d8b"
      },
      "execution_count": 14,
      "outputs": [
        {
          "output_type": "execute_result",
          "data": {
            "text/plain": [
              "0.7598888888889034"
            ]
          },
          "metadata": {},
          "execution_count": 14
        }
      ]
    },
    {
      "cell_type": "markdown",
      "source": [
        "Pese a todas estás metricas un favorito en el Aprendizaje Automático es el coheficiente R2 tambien llamado Coeficiente de Determinación.\n",
        "\n",
        "Una de las virtudes de este coeficiente es que una predicción perfecta ofrece un R2 = 1\n",
        " y un modelo que no toma en cuenta la entrada para la prediccion obtendrá un R2\n",
        " negativo"
      ],
      "metadata": {
        "id": "FYmWL_UJ_cTe"
      }
    },
    {
      "cell_type": "code",
      "source": [
        "from sklearn.metrics import r2_score\n",
        "r2_score(y, y_pred)"
      ],
      "metadata": {
        "colab": {
          "base_uri": "https://localhost:8080/"
        },
        "id": "vJNbuidY_pP2",
        "outputId": "813695f2-1b35-4375-d044-b2df55ebae49"
      },
      "execution_count": 15,
      "outputs": [
        {
          "output_type": "execute_result",
          "data": {
            "text/plain": [
              "0.9852044388728112"
            ]
          },
          "metadata": {},
          "execution_count": 15
        }
      ]
    },
    {
      "cell_type": "markdown",
      "source": [
        "Muy parecido al coeficiente R2\n",
        " es el coeficiente de de explicación de la varianza (Explained variance score), en el cual el mejor posible es 1.0 y valores menores son peores"
      ],
      "metadata": {
        "id": "lYSScNVj_uJu"
      }
    },
    {
      "cell_type": "code",
      "source": [
        "from sklearn.metrics import explained_variance_score\n",
        "explained_variance_score(y, y_pred)"
      ],
      "metadata": {
        "colab": {
          "base_uri": "https://localhost:8080/"
        },
        "id": "IvLNesoq_zP1",
        "outputId": "29e7fcec-4ec3-4416-9a28-1838f2e88626"
      },
      "execution_count": 16,
      "outputs": [
        {
          "output_type": "execute_result",
          "data": {
            "text/plain": [
              "0.9852044388728112"
            ]
          },
          "metadata": {},
          "execution_count": 16
        }
      ]
    },
    {
      "cell_type": "markdown",
      "source": [
        "Sin embargo, ninguna de estás metricas nos dice que tan confiable es nuestra predicción sobre datos de entrada nunca antes vistos!\n",
        "Esto lo arreglaremos más adelante."
      ],
      "metadata": {
        "id": "rmyWzNP6_6IW"
      }
    }
  ]
}