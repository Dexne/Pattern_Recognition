{
  "nbformat": 4,
  "nbformat_minor": 0,
  "metadata": {
    "colab": {
      "provenance": [],
      "authorship_tag": "ABX9TyM8fObgNwz7qwkabD1DwfQx",
      "include_colab_link": true
    },
    "kernelspec": {
      "name": "python3",
      "display_name": "Python 3"
    },
    "language_info": {
      "name": "python"
    }
  },
  "cells": [
    {
      "cell_type": "markdown",
      "metadata": {
        "id": "view-in-github",
        "colab_type": "text"
      },
      "source": [
        "<a href=\"https://colab.research.google.com/github/Dexne/Pattern_Recognition/blob/main/15_Metodos_ensamble.ipynb\" target=\"_parent\"><img src=\"https://colab.research.google.com/assets/colab-badge.svg\" alt=\"Open In Colab\"/></a>"
      ]
    },
    {
      "cell_type": "markdown",
      "source": [
        "**Reconocimiento de patrones**\n",
        "\n",
        "**Métodos de ensamble**"
      ],
      "metadata": {
        "id": "_4k8WfZEDOLB"
      }
    },
    {
      "cell_type": "code",
      "execution_count": 1,
      "metadata": {
        "id": "U9n48qLYDITT"
      },
      "outputs": [],
      "source": [
        "import numpy as np\n",
        "import pandas as pd\n",
        "from sklearn.model_selection import train_test_split\n",
        "from sklearn.tree import DecisionTreeClassifier\n",
        "from sklearn.ensemble import RandomForestClassifier, BaggingClassifier\n",
        "from sklearn.ensemble import AdaBoostClassifier, VotingClassifier\n",
        "from sklearn.linear_model import LogisticRegression\n",
        "from sklearn.svm import SVC"
      ]
    },
    {
      "cell_type": "code",
      "source": [
        "# Leer datos\n",
        "data = pd.read_csv('/content/diabetes.csv')\n",
        "\n",
        "# Selección de variables\n",
        "x = np.asanyarray(data.iloc[:,:-1])\n",
        "y = np.asanyarray(data.iloc[:,-1])\n",
        "\n",
        "# Separación de entrenamiento y prueba\n",
        "xtrain, xtest, ytrain, ytest = train_test_split(x, y, random_state=0)"
      ],
      "metadata": {
        "id": "9mj-rn7NDWLQ"
      },
      "execution_count": 2,
      "outputs": []
    },
    {
      "cell_type": "markdown",
      "source": [
        "**Árbol de decisión**"
      ],
      "metadata": {
        "id": "S6GfQwEGEG3I"
      }
    },
    {
      "cell_type": "code",
      "source": [
        "dt = DecisionTreeClassifier()\n",
        "dt.fit(xtrain,ytrain)\n",
        "\n",
        "print('Train: ', dt.score(xtrain,ytrain))\n",
        "print('Test: ', dt.score(xtest,ytest))"
      ],
      "metadata": {
        "colab": {
          "base_uri": "https://localhost:8080/"
        },
        "id": "C5HitoynEJbB",
        "outputId": "9387586f-da58-4b3e-b733-422aee7dc9cb"
      },
      "execution_count": 3,
      "outputs": [
        {
          "output_type": "stream",
          "name": "stdout",
          "text": [
            "Train:  1.0\n",
            "Test:  0.71875\n"
          ]
        }
      ]
    },
    {
      "cell_type": "markdown",
      "source": [
        "**Random Forest**"
      ],
      "metadata": {
        "id": "RM4CfodVEL8Y"
      }
    },
    {
      "cell_type": "code",
      "source": [
        "rf = RandomForestClassifier(n_estimators=100)\n",
        "rf.fit(xtrain,ytrain)\n",
        "\n",
        "print('Train: ', rf.score(xtrain,ytrain))\n",
        "print('Test: ', rf.score(xtest,ytest))"
      ],
      "metadata": {
        "colab": {
          "base_uri": "https://localhost:8080/"
        },
        "id": "dGHDBpg9EORI",
        "outputId": "a687efa6-5c54-432c-8bf9-df0259a6739a"
      },
      "execution_count": 4,
      "outputs": [
        {
          "output_type": "stream",
          "name": "stdout",
          "text": [
            "Train:  1.0\n",
            "Test:  0.78125\n"
          ]
        }
      ]
    },
    {
      "cell_type": "markdown",
      "source": [
        "**Bagging**"
      ],
      "metadata": {
        "id": "FXqZDzXMEQtI"
      }
    },
    {
      "cell_type": "code",
      "source": [
        "bg = BaggingClassifier(DecisionTreeClassifier(), max_samples= 0.5,\n",
        "                       max_features = 1.0, n_estimators = 100)\n",
        "bg.fit(xtrain,ytrain)\n",
        "\n",
        "print('Train: ', bg.score(xtrain,ytrain))\n",
        "print('Test: ', bg.score(xtest,ytest))"
      ],
      "metadata": {
        "colab": {
          "base_uri": "https://localhost:8080/"
        },
        "id": "s0msN5GKETbA",
        "outputId": "1cf1f920-748b-484e-9ae1-626dbe33fb7c"
      },
      "execution_count": 5,
      "outputs": [
        {
          "output_type": "stream",
          "name": "stdout",
          "text": [
            "Train:  0.9583333333333334\n",
            "Test:  0.78125\n"
          ]
        }
      ]
    },
    {
      "cell_type": "markdown",
      "source": [
        "**Boosting**"
      ],
      "metadata": {
        "id": "AxZUYlESEWJa"
      }
    },
    {
      "cell_type": "code",
      "source": [
        "adb = AdaBoostClassifier(LogisticRegression(), n_estimators = 1,\n",
        "                         learning_rate = 1)\n",
        "adb.fit(xtrain,ytrain)\n",
        "\n",
        "print('Train: ', adb.score(xtrain,ytrain))\n",
        "print('Test: ', adb.score(xtest,ytest))"
      ],
      "metadata": {
        "colab": {
          "base_uri": "https://localhost:8080/"
        },
        "id": "RXGabxu8EYXw",
        "outputId": "97a0431d-a47f-4d11-b603-0a6b4c661cb9"
      },
      "execution_count": 6,
      "outputs": [
        {
          "output_type": "stream",
          "name": "stdout",
          "text": [
            "Train:  0.7673611111111112\n",
            "Test:  0.7864583333333334\n"
          ]
        }
      ]
    },
    {
      "cell_type": "markdown",
      "source": [
        "**Voting**"
      ],
      "metadata": {
        "id": "GR35zP3XEabg"
      }
    },
    {
      "cell_type": "code",
      "source": [
        "lr = LogisticRegression(solver='lbfgs', max_iter=500)\n",
        "dt = DecisionTreeClassifier()\n",
        "svm = SVC(kernel = 'rbf', gamma='scale')\n",
        "\n",
        "evc = VotingClassifier( estimators= [('lr',lr),('dt',dt),('svm',svm)],\n",
        "                       voting = 'hard')\n",
        "evc.fit(xtrain, ytrain)\n",
        "\n",
        "print('Train: ', evc.score(xtrain,ytrain))\n",
        "print('Test: ', evc.score(xtest,ytest))"
      ],
      "metadata": {
        "id": "zLEJHdmlEb65",
        "outputId": "6dc84058-c009-4869-fe4b-f1c082fc23da",
        "colab": {
          "base_uri": "https://localhost:8080/"
        }
      },
      "execution_count": 7,
      "outputs": [
        {
          "output_type": "stream",
          "name": "stdout",
          "text": [
            "Train:  0.8038194444444444\n",
            "Test:  0.7864583333333334\n"
          ]
        }
      ]
    }
  ]
}